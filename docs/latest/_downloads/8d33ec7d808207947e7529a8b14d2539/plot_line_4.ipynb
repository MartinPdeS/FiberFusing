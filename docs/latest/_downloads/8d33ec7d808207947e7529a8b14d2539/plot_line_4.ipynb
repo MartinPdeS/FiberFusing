{
  "cells": [
    {
      "cell_type": "markdown",
      "metadata": {},
      "source": [
        "\n# 4x4 Line - Geometry Visualization\nThis script demonstrates how to create and visualize a 4x4 line geometry using the FiberFusing library.\n"
      ]
    },
    {
      "cell_type": "code",
      "execution_count": null,
      "metadata": {
        "collapsed": false
      },
      "outputs": [],
      "source": [
        "from FiberFusing import Geometry, DomainAlignment, BackGround\nfrom FiberFusing.fiber import FiberLoader\nfrom FiberFusing.profile import Profile, StructureType\n\n\n# Set up the background medium (air)\nair_background = BackGround(refractive_index=1.0)\n\n# Create the cladding structure based on the fused fiber profile\nprofile = Profile()\n\nprofile.add_structure(\n    structure_type=StructureType.LINEAR,\n    number_of_fibers=4,\n    fusion_degree=0.3,\n    fiber_radius=62.5e-6\n)\n\nprofile.refractive_index = 1.4444  # Refractive index of silica at the specified wavelength\n\n# Load fibers (e.g., SMF-28) positioned at the cores of the cladding structure\nfiber_loader = FiberLoader()\nfibers = [\n    fiber_loader.load_fiber('SMF28', clad_refractive_index=profile.refractive_index, position=core_position)\n    for core_position in profile.cores\n]\n\n# Set up the geometry with the defined background, cladding structure, and resolution\ngeometry = Geometry(\n    x_bounds=DomainAlignment.CENTERING,\n    y_bounds=DomainAlignment.CENTERING,\n    resolution=250\n)\n\n# Add the fibers to the geometry\ngeometry.add_structure(air_background, profile, *fibers)\n\ngeometry.initialize()\n\n# Plot the resulting geometry\ngeometry.plot()"
      ]
    }
  ],
  "metadata": {
    "kernelspec": {
      "display_name": "Python 3",
      "language": "python",
      "name": "python3"
    },
    "language_info": {
      "codemirror_mode": {
        "name": "ipython",
        "version": 3
      },
      "file_extension": ".py",
      "mimetype": "text/x-python",
      "name": "python",
      "nbconvert_exporter": "python",
      "pygments_lexer": "ipython3",
      "version": "3.11.13"
    }
  },
  "nbformat": 4,
  "nbformat_minor": 0
}