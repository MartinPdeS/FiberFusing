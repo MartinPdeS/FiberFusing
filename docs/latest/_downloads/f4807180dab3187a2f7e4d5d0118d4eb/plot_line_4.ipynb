{
  "cells": [
    {
      "cell_type": "markdown",
      "metadata": {},
      "source": [
        "\n# 4x4 Line - Clad\n"
      ]
    },
    {
      "cell_type": "code",
      "execution_count": null,
      "metadata": {
        "collapsed": false
      },
      "outputs": [],
      "source": [
        "from FiberFusing.profile import Profile, StructureType\n\nprofile = Profile()\n\nprofile.add_structure(\n    structure_type=StructureType.LINEAR,\n    number_of_fibers=4,\n    fusion_degree=0.3,\n    fiber_radius=62.5e-6,\n    compute_fusing=True\n)\n\nprofile.plot(show_cores=True, show_centers=True)\n\n# -"
      ]
    }
  ],
  "metadata": {
    "kernelspec": {
      "display_name": "Python 3",
      "language": "python",
      "name": "python3"
    },
    "language_info": {
      "codemirror_mode": {
        "name": "ipython",
        "version": 3
      },
      "file_extension": ".py",
      "mimetype": "text/x-python",
      "name": "python",
      "nbconvert_exporter": "python",
      "pygments_lexer": "ipython3",
      "version": "3.11.13"
    }
  },
  "nbformat": 4,
  "nbformat_minor": 0
}