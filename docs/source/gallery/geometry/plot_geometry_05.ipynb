{
  "cells": [
    {
      "cell_type": "markdown",
      "metadata": {},
      "source": [
        "\n# 5x5 Ring - Geometry\n"
      ]
    },
    {
      "cell_type": "code",
      "execution_count": null,
      "metadata": {
        "collapsed": false
      },
      "outputs": [],
      "source": [
        "from FiberFusing import Geometry, BackGround\nfrom FiberFusing.fiber.catalogue import load_fiber, get_silica_index\nfrom FiberFusing.configuration.ring import FusedProfile_05x05 as FusedProfile\n\nwavelength = 1.55e-6\n\nair = BackGround(index=1.0)\n\nclad = FusedProfile(\n    fiber_radius=62.5e-6,\n    fusion_degree=0.1,\n    index=get_silica_index(wavelength=wavelength)\n)\n\nfibers = [\n    load_fiber('SMF28', wavelength=wavelength, position=core) for core in clad.cores\n]\n\n\ngeometry = Geometry(\n    background=air,\n    additional_structure_list=[clad],\n    x_bounds='centering',\n    y_bounds='centering',\n    resolution=250\n)\n\n_ = geometry.add_fiber(*fibers)\n\nfigure = geometry.plot()\n\n_ = figure.show()\n\n\n# -"
      ]
    }
  ],
  "metadata": {
    "kernelspec": {
      "display_name": "Python 3",
      "language": "python",
      "name": "python3"
    },
    "language_info": {
      "codemirror_mode": {
        "name": "ipython",
        "version": 3
      },
      "file_extension": ".py",
      "mimetype": "text/x-python",
      "name": "python",
      "nbconvert_exporter": "python",
      "pygments_lexer": "ipython3",
      "version": "3.11.0"
    }
  },
  "nbformat": 4,
  "nbformat_minor": 0
}