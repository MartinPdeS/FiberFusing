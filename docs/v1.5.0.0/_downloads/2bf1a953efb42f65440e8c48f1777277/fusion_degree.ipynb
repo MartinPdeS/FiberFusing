{
  "cells": [
    {
      "cell_type": "markdown",
      "metadata": {},
      "source": [
        "\n# Effect of fusion degree\n"
      ]
    },
    {
      "cell_type": "code",
      "execution_count": null,
      "metadata": {
        "collapsed": false
      },
      "outputs": [],
      "source": [
        "from FiberFusing.configuration.line import FusedProfile_02x02 as FusedProfile\nfrom PyOptik import MaterialBank\n\nmaterial = MaterialBank.fused_silica\n\nwavelength = 15.5e-6\n\nstructure = FusedProfile(\n    fiber_radius=62.5e-6,\n    fusion_degree=0.1,\n    index=material.compute_refractive_index(wavelength),\n)\n\nfor fusion_degree in ['auto', 0.1, 0.3, 0.6, 0.9, 1.0]:\n    structure.fusion_degree = fusion_degree\n\n    structure.plot()\n\n\n# -"
      ]
    }
  ],
  "metadata": {
    "kernelspec": {
      "display_name": "Python 3",
      "language": "python",
      "name": "python3"
    },
    "language_info": {
      "codemirror_mode": {
        "name": "ipython",
        "version": 3
      },
      "file_extension": ".py",
      "mimetype": "text/x-python",
      "name": "python",
      "nbconvert_exporter": "python",
      "pygments_lexer": "ipython3",
      "version": "3.11.10"
    }
  },
  "nbformat": 4,
  "nbformat_minor": 0
}