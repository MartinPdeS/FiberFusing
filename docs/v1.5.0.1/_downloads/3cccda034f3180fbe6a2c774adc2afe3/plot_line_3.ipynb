{
  "cells": [
    {
      "cell_type": "markdown",
      "metadata": {},
      "source": [
        "\n# 3x3 Line - Clad\n"
      ]
    },
    {
      "cell_type": "code",
      "execution_count": null,
      "metadata": {
        "collapsed": false
      },
      "outputs": [],
      "source": [
        "from FiberFusing.configuration.line import FusedProfile_03x03 as FusedProfile\nfrom PyOptik import MaterialBank\n\nmaterial = MaterialBank.fused_silica\n\nwavelength = 15.5e-6\n\nclad = FusedProfile(\n    fiber_radius=62.5e-6,\n    fusion_degree=0.1,\n    index=material.compute_refractive_index(wavelength),\n)\n\nclad.plot(show_cores=True, show_centers=True)\n\n# -"
      ]
    }
  ],
  "metadata": {
    "kernelspec": {
      "display_name": "Python 3",
      "language": "python",
      "name": "python3"
    },
    "language_info": {
      "codemirror_mode": {
        "name": "ipython",
        "version": 3
      },
      "file_extension": ".py",
      "mimetype": "text/x-python",
      "name": "python",
      "nbconvert_exporter": "python",
      "pygments_lexer": "ipython3",
      "version": "3.11.10"
    }
  },
  "nbformat": 4,
  "nbformat_minor": 0
}