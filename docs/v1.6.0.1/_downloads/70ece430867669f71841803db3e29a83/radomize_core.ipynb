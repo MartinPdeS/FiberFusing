{
  "cells": [
    {
      "cell_type": "markdown",
      "metadata": {},
      "source": [
        "\n# Effect of core randomization\n"
      ]
    },
    {
      "cell_type": "code",
      "execution_count": null,
      "metadata": {
        "collapsed": false
      },
      "outputs": [],
      "source": [
        "from FiberFusing.configuration.line import FusedProfile_02x02 as FusedProfile\nfrom PyOptik import MaterialBank\n\nmaterial = MaterialBank.fused_silica\n\nwavelength = 15.5e-6\n\nstructure = FusedProfile(\n    fiber_radius=62.5e-6,\n    fusion_degree=0.1,\n    index=material.compute_refractive_index(wavelength),\n)"
      ]
    },
    {
      "cell_type": "code",
      "execution_count": null,
      "metadata": {
        "collapsed": false
      },
      "outputs": [],
      "source": [
        "factor = 0\nstructure.randomize_core_position(random_factor=factor)\nstructure.plot(show_centers=True, show_cores=True)"
      ]
    },
    {
      "cell_type": "code",
      "execution_count": null,
      "metadata": {
        "collapsed": false
      },
      "outputs": [],
      "source": [
        "factor = 10e-6\nstructure.randomize_core_position(random_factor=factor)\nstructure.plot(show_centers=True, show_cores=True)"
      ]
    },
    {
      "cell_type": "code",
      "execution_count": null,
      "metadata": {
        "collapsed": false
      },
      "outputs": [],
      "source": [
        "factor = 10e-6\nstructure.randomize_core_position(random_factor=factor)\nstructure.plot(show_centers=True, show_cores=True)"
      ]
    }
  ],
  "metadata": {
    "kernelspec": {
      "display_name": "Python 3",
      "language": "python",
      "name": "python3"
    },
    "language_info": {
      "codemirror_mode": {
        "name": "ipython",
        "version": 3
      },
      "file_extension": ".py",
      "mimetype": "text/x-python",
      "name": "python",
      "nbconvert_exporter": "python",
      "pygments_lexer": "ipython3",
      "version": "3.11.11"
    }
  },
  "nbformat": 4,
  "nbformat_minor": 0
}