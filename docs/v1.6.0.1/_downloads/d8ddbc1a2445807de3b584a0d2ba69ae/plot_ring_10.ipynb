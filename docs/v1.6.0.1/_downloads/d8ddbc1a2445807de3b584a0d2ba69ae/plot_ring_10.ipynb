{
  "cells": [
    {
      "cell_type": "markdown",
      "metadata": {},
      "source": [
        "\n# 10x10 Ring - Geometry Visualization\nThis script demonstrates how to create and visualize a 10x10 ring geometry using the FiberFusing library.\n"
      ]
    },
    {
      "cell_type": "code",
      "execution_count": null,
      "metadata": {
        "collapsed": false
      },
      "outputs": [],
      "source": [
        "from FiberFusing import Geometry, BackGround\nfrom FiberFusing.fiber.catalogue import load_fiber\nfrom FiberFusing.configuration.ring import FusedProfile_10x10\nfrom PyOptik import MaterialBank"
      ]
    },
    {
      "cell_type": "markdown",
      "metadata": {},
      "source": [
        "Define operational parameters\n\n"
      ]
    },
    {
      "cell_type": "code",
      "execution_count": null,
      "metadata": {
        "collapsed": false
      },
      "outputs": [],
      "source": [
        "wavelength = 1.55e-6  # Wavelength in meters (1.55 micrometers)\n\n# Set up the background medium (air)\nair_background = BackGround(index=1.0)\n\n# Create the cladding structure based on the fused fiber profile\ncladding = FusedProfile_10x10(\n    fiber_radius=62.5e-6,  # Radius of the fibers in the cladding (in meters)\n    index=MaterialBank.fused_silica.compute_refractive_index(wavelength)  # Refractive index of silica at the specified wavelength\n)\n\n# Load fibers (e.g., SMF-28) positioned at the cores of the cladding structure\nfibers = [\n    load_fiber('SMF28', wavelength=wavelength, position=core_position)\n    for core_position in cladding.cores\n]\n\n# Set up the geometry with the defined background, cladding structure, and resolution\ngeometry = Geometry(\n    background=air_background,\n    additional_structure_list=[cladding],\n    x_bounds='centering',\n    y_bounds='centering',\n    resolution=250\n)\n\n# Add the fibers to the geometry\ngeometry.add_fiber(*fibers)\n\n# Plot the resulting geometry\ngeometry.plot()"
      ]
    }
  ],
  "metadata": {
    "kernelspec": {
      "display_name": "Python 3",
      "language": "python",
      "name": "python3"
    },
    "language_info": {
      "codemirror_mode": {
        "name": "ipython",
        "version": 3
      },
      "file_extension": ".py",
      "mimetype": "text/x-python",
      "name": "python",
      "nbconvert_exporter": "python",
      "pygments_lexer": "ipython3",
      "version": "3.11.10"
    }
  },
  "nbformat": 4,
  "nbformat_minor": 0
}