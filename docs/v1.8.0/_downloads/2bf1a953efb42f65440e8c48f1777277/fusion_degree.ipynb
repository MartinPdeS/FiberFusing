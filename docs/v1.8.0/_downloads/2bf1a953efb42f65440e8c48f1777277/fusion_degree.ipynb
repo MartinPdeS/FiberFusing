{
  "cells": [
    {
      "cell_type": "markdown",
      "metadata": {},
      "source": [
        "\n# Effect of fusion degree\n"
      ]
    },
    {
      "cell_type": "code",
      "execution_count": null,
      "metadata": {
        "collapsed": false
      },
      "outputs": [],
      "source": [
        "from FiberFusing.profile import Profile, StructureType\n\nfor fusion_degree in [0.1, 0.2, 0.3, 0.4, 0.5]:\n\n    profile = Profile()\n\n    profile.add_structure(\n        structure_type=StructureType.CIRCULAR,\n        number_of_fibers=3,\n        fusion_degree=fusion_degree,\n        fiber_radius=62.5e-6,\n        compute_fusing=True\n    )\n\n    profile.plot()\n\n\n# -"
      ]
    }
  ],
  "metadata": {
    "kernelspec": {
      "display_name": "Python 3",
      "language": "python",
      "name": "python3"
    },
    "language_info": {
      "codemirror_mode": {
        "name": "ipython",
        "version": 3
      },
      "file_extension": ".py",
      "mimetype": "text/x-python",
      "name": "python",
      "nbconvert_exporter": "python",
      "pygments_lexer": "ipython3",
      "version": "3.11.13"
    }
  },
  "nbformat": 4,
  "nbformat_minor": 0
}