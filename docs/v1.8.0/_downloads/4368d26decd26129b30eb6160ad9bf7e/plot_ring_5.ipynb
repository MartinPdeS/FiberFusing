{
  "cells": [
    {
      "cell_type": "markdown",
      "metadata": {},
      "source": [
        "\n# 5x5 Ring - Geometry Visualization\nThis script demonstrates how to create and visualize a 5x5 ring geometry using the FiberFusing library.\n"
      ]
    },
    {
      "cell_type": "code",
      "execution_count": null,
      "metadata": {
        "collapsed": false
      },
      "outputs": [],
      "source": [
        "from FiberFusing import Geometry, BoundaryMode, BackGround\nfrom FiberFusing.fiber.catalogue import load_fiber\nfrom FiberFusing.profile import Profile, StructureType\nfrom PyOptik import MaterialBank"
      ]
    },
    {
      "cell_type": "markdown",
      "metadata": {},
      "source": [
        "Define the operational parameters\n\n"
      ]
    },
    {
      "cell_type": "code",
      "execution_count": null,
      "metadata": {
        "collapsed": false
      },
      "outputs": [],
      "source": [
        "wavelength = 1.55e-6  # Wavelength in meters (1.55 micrometers)\n\n# Set up the background medium (air)\nair_background = BackGround(index=1.0)\n\n# Create the profile structure based on the fused fiber profile\nprofile = Profile()\n\nprofile.add_structure(\n    structure_type=StructureType.CIRCULAR,\n    number_of_fibers=5,\n    fusion_degree=0.4,\n    fiber_radius=62.5e-6,\n    compute_fusing=True\n)\n\nprofile.index = MaterialBank.fused_silica.compute_refractive_index(wavelength)  # Refractive index of silica at the specified wavelength\n\n\n# Load fibers (e.g., SMF-28) positioned at the cores of the profile structure\nfibers = [\n    load_fiber('SMF28', wavelength=wavelength, position=core_position)\n    for core_position in profile.cores\n]\n\n# Set up the geometry with the defined background, profile structure, and resolution\ngeometry = Geometry(\n    background=air_background,\n    additional_structure_list=[profile],\n    x_bounds=BoundaryMode.CENTERING,\n    y_bounds=BoundaryMode.CENTERING,\n    resolution=250\n)\n\n# Add the fibers to the geometry\ngeometry.add_fiber(*fibers)\n\n# Plot the resulting geometry\ngeometry.plot(show_mesh=True)"
      ]
    }
  ],
  "metadata": {
    "kernelspec": {
      "display_name": "Python 3",
      "language": "python",
      "name": "python3"
    },
    "language_info": {
      "codemirror_mode": {
        "name": "ipython",
        "version": 3
      },
      "file_extension": ".py",
      "mimetype": "text/x-python",
      "name": "python",
      "nbconvert_exporter": "python",
      "pygments_lexer": "ipython3",
      "version": "3.11.13"
    }
  },
  "nbformat": 4,
  "nbformat_minor": 0
}