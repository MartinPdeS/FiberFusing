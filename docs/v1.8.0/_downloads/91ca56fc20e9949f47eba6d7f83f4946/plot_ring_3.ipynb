{
  "cells": [
    {
      "cell_type": "markdown",
      "metadata": {},
      "source": [
        "\n# 3x3 Ring - Geometry Visualization\nThis script demonstrates how to create and visualize a 3x3 ring geometry using the FiberFusing library.\n"
      ]
    },
    {
      "cell_type": "code",
      "execution_count": null,
      "metadata": {
        "collapsed": false
      },
      "outputs": [],
      "source": [
        "from FiberFusing import Geometry, DomainAlignment, BackGround\nfrom FiberFusing.fiber import FiberLoader\nfrom FiberFusing.profile import Profile, StructureType\nfrom PyOptik import MaterialBank"
      ]
    },
    {
      "cell_type": "markdown",
      "metadata": {},
      "source": [
        "Define the operational parameters\n\n"
      ]
    },
    {
      "cell_type": "code",
      "execution_count": null,
      "metadata": {
        "collapsed": false
      },
      "outputs": [],
      "source": [
        "wavelength = 1.55e-6  # Wavelength in meters (1.55 micrometers)\n\n# Set up the background medium (air)\nair_background = BackGround(refractive_index=1.0)\n\n# Create the profile structure based on the fused fiber profile\nprofile = Profile()\n\nprofile.add_structure(\n    structure_type=StructureType.CIRCULAR,\n    number_of_fibers=3,\n    fusion_degree=0.4,\n    fiber_radius=62.5e-6,\n    compute_fusing=True\n)\n\nprofile.refractive_index = MaterialBank.fused_silica.compute_refractive_index(wavelength)  # Refractive index of silica at the specified wavelength\n\n\n# Load fibers (e.g., SMF-28) positioned at the cores of the profile structure\nfiber_loader = FiberLoader()\nfibers = [\n    fiber_loader.load_fiber('SMF28', clad_refractive_index=profile.refractive_index, position=core_position)\n    for core_position in profile.cores\n]\n\n# Set up the geometry with the defined background, profile structure, and resolution\ngeometry = Geometry(\n    x_bounds=DomainAlignment.CENTERING,\n    y_bounds=DomainAlignment.CENTERING,\n    resolution=350\n)\n\n# Add the fibers to the geometry\ngeometry.add_structure(air_background, profile, *fibers)\n\ngeometry.initialize()\n\n# Plot the resulting geometry\ngeometry.plot(show_patch=True)"
      ]
    }
  ],
  "metadata": {
    "kernelspec": {
      "display_name": "Python 3",
      "language": "python",
      "name": "python3"
    },
    "language_info": {
      "codemirror_mode": {
        "name": "ipython",
        "version": 3
      },
      "file_extension": ".py",
      "mimetype": "text/x-python",
      "name": "python",
      "nbconvert_exporter": "python",
      "pygments_lexer": "ipython3",
      "version": "3.11.13"
    }
  },
  "nbformat": 4,
  "nbformat_minor": 0
}