{
  "cells": [
    {
      "cell_type": "markdown",
      "metadata": {},
      "source": [
        "\n# Loading and plotting a step-index fiber structure\n"
      ]
    },
    {
      "cell_type": "code",
      "execution_count": null,
      "metadata": {
        "collapsed": false
      },
      "outputs": [],
      "source": [
        "from FiberFusing.fiber import GenericFiber\nfrom FiberFusing.coordinate_system import CoordinateSystem\n\nfiber = GenericFiber()\n\nfiber.create_and_add_new_structure(\n    name='cladding',\n    refractive_index=1.4450,\n    radius=62.5 * 1e-6\n)\n\nfiber.create_and_add_new_structure(\n    name='core',\n    refractive_index=1.4480,\n    radius=4.5 * 1e-6\n)\n\ncoordinate_system = CoordinateSystem(\n    nx=100,\n    ny=100,\n    x_min=-20e-6,\n    x_max=20e-6,\n    y_min=-20e-6,\n    y_max=20e-6,\n)\n\nmesh = fiber.get_raster_mesh(coordinate_system=coordinate_system)\n\nimport matplotlib.pyplot as plt\nplt.imshow(mesh, origin='lower', cmap='viridis')\nplt.colorbar(label='Refractive Index')\nplt.title('Refractive Index Distribution in the Fiber')\nplt.xlabel('X Position (m)')\nplt.ylabel('Y Position (m)')\nplt.show()"
      ]
    }
  ],
  "metadata": {
    "kernelspec": {
      "display_name": "Python 3",
      "language": "python",
      "name": "python3"
    },
    "language_info": {
      "codemirror_mode": {
        "name": "ipython",
        "version": 3
      },
      "file_extension": ".py",
      "mimetype": "text/x-python",
      "name": "python",
      "nbconvert_exporter": "python",
      "pygments_lexer": "ipython3",
      "version": "3.11.13"
    }
  },
  "nbformat": 4,
  "nbformat_minor": 0
}